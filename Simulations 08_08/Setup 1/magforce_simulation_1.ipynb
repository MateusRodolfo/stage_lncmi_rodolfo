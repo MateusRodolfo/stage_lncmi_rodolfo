{
 "cells": [
  {
   "cell_type": "markdown",
   "metadata": {
    "colab_type": "text",
    "id": "4cVhkiZCeTDh"
   },
   "source": [
    "* importing packages"
   ]
  },
  {
   "cell_type": "code",
   "execution_count": null,
   "metadata": {
    "colab": {},
    "colab_type": "code",
    "id": "cEZYAuhMeXiZ",
    "scrolled": true
   },
   "outputs": [],
   "source": [
    "from numpy import linspace, pi\n",
    "from matplotlib.pyplot import show, figure\n",
    "from matplotlib import rcParams\n",
    "from magpylib.source.magnet import Cylinder\n",
    "from magpylib import Collection, displaySystem\n",
    "\n",
    "from magforce import plot_1D_along_x, plot_1D_along_y, plot_1D_along_z\n",
    "from magforce import plot_2D_plane_x, plot_2D_plane_y, plot_2D_plane_z\n",
    "from magforce import plot_3D"
   ]
  },
  {
   "cell_type": "markdown",
   "metadata": {},
   "source": [
    "* setting up figure size for notebook"
   ]
  },
  {
   "cell_type": "code",
   "execution_count": null,
   "metadata": {
    "scrolled": true
   },
   "outputs": [],
   "source": [
    "# make figures bigger on notebook\n",
    "width = 9\n",
    "height = 9\n",
    "rcParams['figure.figsize'] = [width, height]"
   ]
  },
  {
   "cell_type": "markdown",
   "metadata": {
    "colab_type": "text",
    "id": "r_QEs5eOecAc"
   },
   "source": [
    "* defining a cobalt spherical sample, with 4mm diameter, Ms of 1.4e6 A/m and demagnetizing factor of 1/3\n",
    "\n",
    "* the sample variable needs to be a dictionary for magforce's functions to work, and it must include the 'demagnetizing_factor', 'volume' and 'M_saturation' keys"
   ]
  },
  {
   "cell_type": "code",
   "execution_count": null,
   "metadata": {
    "colab": {},
    "colab_type": "code",
    "id": "qZMuCZF9eydt",
    "scrolled": true
   },
   "outputs": [],
   "source": [
    "demagnetizing_factor = 1/3             # sphere\n",
    "volume = 4 / 3 * pi * (4 / 1000) ** 3  # V sphere r=4mm [m3]\n",
    "M_saturation = 1.400e6                 # Ms Co room temperature [A/m]\n",
    "\n",
    "sample = {'demagnetizing_factor': demagnetizing_factor, \n",
    "          'volume': volume, \n",
    "          'M_saturation': M_saturation}"
   ]
  },
  {
   "cell_type": "markdown",
   "metadata": {
    "colab_type": "text",
    "id": "VVXxtdmLf66r"
   },
   "source": [
    "* defining a magnet collection\n",
    "    * it consists of a single cylinder with a 5mm diameter and 20mm height\n",
    "    * its top surface is at z = 0\n",
    "    * the my_collection is a magpylib.Collection instance (see [magpylib](https://magpylib.readthedocs.io/en/latest/) for more information)"
   ]
  },
  {
   "cell_type": "code",
   "execution_count": null,
   "metadata": {
    "colab": {},
    "colab_type": "code",
    "id": "o2pgcgQ9gOIN",
    "scrolled": true
   },
   "outputs": [],
   "source": [
    "m1 = Cylinder(mag=[0, 0, 1000], \n",
    "              dim=[5, 20], \n",
    "              pos=[0, 0, -10])\n",
    "\n",
    "my_collection = Collection(m1)"
   ]
  },
  {
   "cell_type": "markdown",
   "metadata": {
    "colab_type": "text",
    "id": "NWZny9M6gReE"
   },
   "source": [
    "* displaying the collection"
   ]
  },
  {
   "cell_type": "code",
   "execution_count": null,
   "metadata": {
    "colab": {},
    "colab_type": "code",
    "id": "rOB3fFdOgT_M",
    "scrolled": false
   },
   "outputs": [],
   "source": [
    "collection_fig = figure(num='System Display')\n",
    "collection_ax = collection_fig.add_subplot(projection='3d')\n",
    "\n",
    "displaySystem(my_collection, \n",
    "              direc=True, \n",
    "              markers=[(0, 0, 0)], \n",
    "              suppress=False, \n",
    "              subplotAx=collection_ax)"
   ]
  },
  {
   "cell_type": "markdown",
   "metadata": {
    "colab_type": "text",
    "id": "75DWmPM5gcWK"
   },
   "source": [
    "* plotting 1D along x\n",
    "  * x from -30 to 30 , 1000 points\n",
    "  * y = 0\n",
    "  * z = 0"
   ]
  },
  {
   "cell_type": "code",
   "execution_count": null,
   "metadata": {
    "colab": {},
    "colab_type": "code",
    "id": "MGGbpzYbgryv",
    "scrolled": false
   },
   "outputs": [],
   "source": [
    "# Plotting 1D along x\n",
    "\n",
    "plot_1D_along_x(xs = linspace(-30, 30, 1000), \n",
    "                y = 0, \n",
    "                z = 0, \n",
    "                collection = my_collection, \n",
    "                sample = sample, \n",
    "                BF = 'BF', \n",
    "                saveCSV = False)"
   ]
  },
  {
   "cell_type": "markdown",
   "metadata": {
    "colab_type": "text",
    "id": "0_LDoNqTgiyW"
   },
   "source": [
    "* plotting 1D along y\n",
    "  * x = 0\n",
    "  * y from -30 to 30 , 1000 points\n",
    "  * z = 0"
   ]
  },
  {
   "cell_type": "code",
   "execution_count": null,
   "metadata": {
    "colab": {},
    "colab_type": "code",
    "id": "u8zRNun2hCpQ",
    "scrolled": false
   },
   "outputs": [],
   "source": [
    "# Plotting 1D along y\n",
    "\n",
    "plot_1D_along_y(x = 0, \n",
    "                ys = linspace(-30, 30, 1000), \n",
    "                z = 0, \n",
    "                collection = my_collection, \n",
    "                sample = sample, \n",
    "                BF = 'BF', \n",
    "                saveCSV = False)"
   ]
  },
  {
   "cell_type": "markdown",
   "metadata": {
    "colab_type": "text",
    "id": "zkvs3WpGglC3"
   },
   "source": [
    "* plotting 1D along z\n",
    "  * x = 0\n",
    "  * y = 0\n",
    "  * z from 0 to 30 , 1000 points"
   ]
  },
  {
   "cell_type": "code",
   "execution_count": null,
   "metadata": {
    "colab": {},
    "colab_type": "code",
    "id": "gesxD3WMhNvx",
    "scrolled": false
   },
   "outputs": [],
   "source": [
    "# Plotting 1D along z\n",
    "\n",
    "plot_1D_along_z(x = 0, \n",
    "                y = 0, \n",
    "                zs = linspace(0, 30, 1000), \n",
    "                collection = my_collection, \n",
    "                sample = sample, \n",
    "                BF = 'BF', \n",
    "                saveCSV = False)"
   ]
  },
  {
   "cell_type": "markdown",
   "metadata": {
    "colab_type": "text",
    "id": "uir3fcUBhd8n"
   },
   "source": [
    "* plotting 2D on x plane\n",
    "  * x = 0\n",
    "  * y from -30 to 30 , 35 points\n",
    "  * z from 0 to 30 , 35 points"
   ]
  },
  {
   "cell_type": "code",
   "execution_count": null,
   "metadata": {
    "colab": {},
    "colab_type": "code",
    "id": "MUfVvIQTiEg2",
    "scrolled": false
   },
   "outputs": [],
   "source": [
    "# Plotting 2D on x\n",
    "\n",
    "plot_2D_plane_x(x = 0, \n",
    "                ys = linspace(-30, 30, 35), \n",
    "                zs = linspace(0, 30, 35), \n",
    "                collection = my_collection, \n",
    "                sample = sample, \n",
    "                modes = ['stream', 'quiver', 'surface'], \n",
    "                BF = 'BF', \n",
    "                saveCSV = False)"
   ]
  },
  {
   "cell_type": "markdown",
   "metadata": {
    "colab_type": "text",
    "id": "sRp0FpjLhrtu"
   },
   "source": [
    "* plotting 2D on y plane\n",
    "  * x from -30 to 30 , 35 points\n",
    "  * y = 0\n",
    "  * z from 0 to 30 , 35 points"
   ]
  },
  {
   "cell_type": "code",
   "execution_count": null,
   "metadata": {
    "colab": {},
    "colab_type": "code",
    "id": "LsotWkUViE9C",
    "scrolled": false
   },
   "outputs": [],
   "source": [
    "# Plotting 2D on y\n",
    "\n",
    "plot_2D_plane_y(xs = linspace(-30, 30, 35), \n",
    "                y = 0, \n",
    "                zs = linspace(0, 30, 35), \n",
    "                collection = my_collection, \n",
    "                sample = sample, \n",
    "                modes = ['stream', 'quiver', 'surface'], \n",
    "                BF = 'BF', \n",
    "                saveCSV = False)"
   ]
  },
  {
   "cell_type": "markdown",
   "metadata": {
    "colab_type": "text",
    "id": "VIX0Hzj6hrfd"
   },
   "source": [
    "* plotting 2D on z plane\n",
    "  * x from -30 to 30 , 35 points\n",
    "  * y from -30 to 30 , 35 points\n",
    "  * z = 0"
   ]
  },
  {
   "cell_type": "code",
   "execution_count": null,
   "metadata": {
    "colab": {},
    "colab_type": "code",
    "id": "iaQRbioiiF7j",
    "scrolled": false
   },
   "outputs": [],
   "source": [
    "# Plotting 2D on z\n",
    "\n",
    "plot_2D_plane_z(xs = linspace(-30, 30, 35), \n",
    "                ys = linspace(-30, 30, 35), \n",
    "                z = 0, \n",
    "                collection = my_collection, \n",
    "                sample = sample, \n",
    "                modes = ['stream', 'quiver', 'surface'], \n",
    "                BF = 'BF', \n",
    "                saveCSV = False)"
   ]
  },
  {
   "cell_type": "markdown",
   "metadata": {
    "colab_type": "text",
    "id": "_aqaubFviSi8"
   },
   "source": [
    "* plotting 3D\n",
    "  * x from -30 to 30 , 7 points\n",
    "  * y from -30 to 30 , 7 points\n",
    "  * z from 0 to 30 , 7 points"
   ]
  },
  {
   "cell_type": "code",
   "execution_count": null,
   "metadata": {
    "colab": {},
    "colab_type": "code",
    "id": "CiuRXp6iiaQ6",
    "scrolled": false
   },
   "outputs": [],
   "source": [
    "# Plotting 3D\n",
    "\n",
    "plot_3D(xs = linspace(-30, 30, 7), \n",
    "        ys = linspace(-30, 30, 7), \n",
    "        zs = linspace(0, 30, 7), \n",
    "        collection = my_collection, \n",
    "        sample = sample, \n",
    "        BF = 'BF', \n",
    "        saveCSV = False)"
   ]
  },
  {
   "cell_type": "code",
   "execution_count": null,
   "metadata": {
    "scrolled": true
   },
   "outputs": [],
   "source": []
  }
 ],
 "metadata": {
  "celltoolbar": "Raw Cell Format",
  "colab": {
   "name": "magforce_example.ipynb",
   "provenance": []
  },
  "kernelspec": {
   "display_name": "Python 3",
   "language": "python",
   "name": "python3"
  },
  "language_info": {
   "codemirror_mode": {
    "name": "ipython",
    "version": 3
   },
   "file_extension": ".py",
   "mimetype": "text/x-python",
   "name": "python",
   "nbconvert_exporter": "python",
   "pygments_lexer": "ipython3",
   "version": "3.7.7"
  }
 },
 "nbformat": 4,
 "nbformat_minor": 1
}
